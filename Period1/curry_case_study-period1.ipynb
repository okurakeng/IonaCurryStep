{
 "cells": [
  {
   "cell_type": "markdown",
   "metadata": {},
   "source": [
    "# Chapter 15: The Sports Analytics case study"
   ]
  },
  {
   "cell_type": "code",
   "execution_count": 26,
   "metadata": {},
   "outputs": [],
   "source": [
    "import pandas as pd\n",
    "import seaborn as sns\n",
    "import json\n",
    "from urllib import request"
   ]
  },
  {
   "cell_type": "markdown",
   "metadata": {},
   "source": [
    "## Get the data"
   ]
  },
  {
   "cell_type": "code",
   "execution_count": 27,
   "metadata": {},
   "outputs": [],
   "source": [
    "shots_url = 'https://www.murach.com/python_analysis/shots.json'\n",
    "shots = request.urlretrieve(shots_url, filename='shots.json')"
   ]
  },
  {
   "cell_type": "code",
   "execution_count": 28,
   "metadata": {},
   "outputs": [
    {
     "data": {
      "text/plain": [
       "dict_keys(['resource', 'parameters', 'resultSets'])"
      ]
     },
     "execution_count": 28,
     "metadata": {},
     "output_type": "execute_result"
    }
   ],
   "source": [
    "with open('shots.json') as jsonData:\n",
    "    shots = json.load(jsonData)\n",
    "shots.keys()"
   ]
  },
  {
   "cell_type": "code",
   "execution_count": 29,
   "metadata": {},
   "outputs": [
    {
     "data": {
      "text/plain": [
       "['grid_type',\n",
       " 'game_id',\n",
       " 'game_event_id',\n",
       " 'player_id',\n",
       " 'player_name',\n",
       " 'team_id',\n",
       " 'team_name',\n",
       " 'period',\n",
       " 'minutes_remaining',\n",
       " 'seconds_remaining',\n",
       " 'event_type',\n",
       " 'action_type',\n",
       " 'shot_type',\n",
       " 'shot_zone_basic',\n",
       " 'shot_zone_area',\n",
       " 'shot_zone_range',\n",
       " 'shot_distance',\n",
       " 'loc_x',\n",
       " 'loc_y',\n",
       " 'shot_attempted_flag',\n",
       " 'shot_made_flag',\n",
       " 'game_date',\n",
       " 'htm',\n",
       " 'vtm']"
      ]
     },
     "execution_count": 29,
     "metadata": {},
     "output_type": "execute_result"
    }
   ],
   "source": [
    "columnHeaders = shots['resultSets'][0]['headers']\n",
    "columnHeaders = [x.lower() for x in columnHeaders]\n",
    "columnHeaders"
   ]
  },
  {
   "cell_type": "code",
   "execution_count": 30,
   "metadata": {},
   "outputs": [],
   "source": [
    "rows = shots['resultSets'][0]['rowSet']"
   ]
  },
  {
   "cell_type": "code",
   "execution_count": 31,
   "metadata": {},
   "outputs": [
    {
     "data": {
      "text/html": [
       "<div>\n",
       "<style scoped>\n",
       "    .dataframe tbody tr th:only-of-type {\n",
       "        vertical-align: middle;\n",
       "    }\n",
       "\n",
       "    .dataframe tbody tr th {\n",
       "        vertical-align: top;\n",
       "    }\n",
       "\n",
       "    .dataframe thead th {\n",
       "        text-align: right;\n",
       "    }\n",
       "</style>\n",
       "<table border=\"1\" class=\"dataframe\">\n",
       "  <thead>\n",
       "    <tr style=\"text-align: right;\">\n",
       "      <th></th>\n",
       "      <th>grid_type</th>\n",
       "      <th>game_id</th>\n",
       "      <th>game_event_id</th>\n",
       "      <th>player_id</th>\n",
       "      <th>player_name</th>\n",
       "      <th>team_id</th>\n",
       "      <th>team_name</th>\n",
       "      <th>period</th>\n",
       "      <th>minutes_remaining</th>\n",
       "      <th>seconds_remaining</th>\n",
       "      <th>...</th>\n",
       "      <th>shot_zone_area</th>\n",
       "      <th>shot_zone_range</th>\n",
       "      <th>shot_distance</th>\n",
       "      <th>loc_x</th>\n",
       "      <th>loc_y</th>\n",
       "      <th>shot_attempted_flag</th>\n",
       "      <th>shot_made_flag</th>\n",
       "      <th>game_date</th>\n",
       "      <th>htm</th>\n",
       "      <th>vtm</th>\n",
       "    </tr>\n",
       "  </thead>\n",
       "  <tbody>\n",
       "    <tr>\n",
       "      <th>0</th>\n",
       "      <td>Shot Chart Detail</td>\n",
       "      <td>0020900015</td>\n",
       "      <td>4</td>\n",
       "      <td>201939</td>\n",
       "      <td>Stephen Curry</td>\n",
       "      <td>1610612744</td>\n",
       "      <td>Golden State Warriors</td>\n",
       "      <td>1</td>\n",
       "      <td>11</td>\n",
       "      <td>25</td>\n",
       "      <td>...</td>\n",
       "      <td>Right Side Center(RC)</td>\n",
       "      <td>24+ ft.</td>\n",
       "      <td>26</td>\n",
       "      <td>99</td>\n",
       "      <td>249</td>\n",
       "      <td>1</td>\n",
       "      <td>0</td>\n",
       "      <td>20091028</td>\n",
       "      <td>GSW</td>\n",
       "      <td>HOU</td>\n",
       "    </tr>\n",
       "    <tr>\n",
       "      <th>1</th>\n",
       "      <td>Shot Chart Detail</td>\n",
       "      <td>0020900015</td>\n",
       "      <td>17</td>\n",
       "      <td>201939</td>\n",
       "      <td>Stephen Curry</td>\n",
       "      <td>1610612744</td>\n",
       "      <td>Golden State Warriors</td>\n",
       "      <td>1</td>\n",
       "      <td>9</td>\n",
       "      <td>31</td>\n",
       "      <td>...</td>\n",
       "      <td>Left Side Center(LC)</td>\n",
       "      <td>16-24 ft.</td>\n",
       "      <td>18</td>\n",
       "      <td>-122</td>\n",
       "      <td>145</td>\n",
       "      <td>1</td>\n",
       "      <td>1</td>\n",
       "      <td>20091028</td>\n",
       "      <td>GSW</td>\n",
       "      <td>HOU</td>\n",
       "    </tr>\n",
       "    <tr>\n",
       "      <th>2</th>\n",
       "      <td>Shot Chart Detail</td>\n",
       "      <td>0020900015</td>\n",
       "      <td>53</td>\n",
       "      <td>201939</td>\n",
       "      <td>Stephen Curry</td>\n",
       "      <td>1610612744</td>\n",
       "      <td>Golden State Warriors</td>\n",
       "      <td>1</td>\n",
       "      <td>6</td>\n",
       "      <td>2</td>\n",
       "      <td>...</td>\n",
       "      <td>Center(C)</td>\n",
       "      <td>8-16 ft.</td>\n",
       "      <td>14</td>\n",
       "      <td>-60</td>\n",
       "      <td>129</td>\n",
       "      <td>1</td>\n",
       "      <td>0</td>\n",
       "      <td>20091028</td>\n",
       "      <td>GSW</td>\n",
       "      <td>HOU</td>\n",
       "    </tr>\n",
       "    <tr>\n",
       "      <th>3</th>\n",
       "      <td>Shot Chart Detail</td>\n",
       "      <td>0020900015</td>\n",
       "      <td>141</td>\n",
       "      <td>201939</td>\n",
       "      <td>Stephen Curry</td>\n",
       "      <td>1610612744</td>\n",
       "      <td>Golden State Warriors</td>\n",
       "      <td>2</td>\n",
       "      <td>9</td>\n",
       "      <td>49</td>\n",
       "      <td>...</td>\n",
       "      <td>Left Side(L)</td>\n",
       "      <td>16-24 ft.</td>\n",
       "      <td>19</td>\n",
       "      <td>-172</td>\n",
       "      <td>82</td>\n",
       "      <td>1</td>\n",
       "      <td>0</td>\n",
       "      <td>20091028</td>\n",
       "      <td>GSW</td>\n",
       "      <td>HOU</td>\n",
       "    </tr>\n",
       "  </tbody>\n",
       "</table>\n",
       "<p>4 rows × 24 columns</p>\n",
       "</div>"
      ],
      "text/plain": [
       "           grid_type     game_id  game_event_id  player_id    player_name  \\\n",
       "0  Shot Chart Detail  0020900015              4     201939  Stephen Curry   \n",
       "1  Shot Chart Detail  0020900015             17     201939  Stephen Curry   \n",
       "2  Shot Chart Detail  0020900015             53     201939  Stephen Curry   \n",
       "3  Shot Chart Detail  0020900015            141     201939  Stephen Curry   \n",
       "\n",
       "      team_id              team_name  period  minutes_remaining  \\\n",
       "0  1610612744  Golden State Warriors       1                 11   \n",
       "1  1610612744  Golden State Warriors       1                  9   \n",
       "2  1610612744  Golden State Warriors       1                  6   \n",
       "3  1610612744  Golden State Warriors       2                  9   \n",
       "\n",
       "   seconds_remaining  ...         shot_zone_area shot_zone_range  \\\n",
       "0                 25  ...  Right Side Center(RC)         24+ ft.   \n",
       "1                 31  ...   Left Side Center(LC)       16-24 ft.   \n",
       "2                  2  ...              Center(C)        8-16 ft.   \n",
       "3                 49  ...           Left Side(L)       16-24 ft.   \n",
       "\n",
       "  shot_distance loc_x loc_y shot_attempted_flag  shot_made_flag  game_date  \\\n",
       "0            26    99   249                   1               0   20091028   \n",
       "1            18  -122   145                   1               1   20091028   \n",
       "2            14   -60   129                   1               0   20091028   \n",
       "3            19  -172    82                   1               0   20091028   \n",
       "\n",
       "   htm  vtm  \n",
       "0  GSW  HOU  \n",
       "1  GSW  HOU  \n",
       "2  GSW  HOU  \n",
       "3  GSW  HOU  \n",
       "\n",
       "[4 rows x 24 columns]"
      ]
     },
     "execution_count": 31,
     "metadata": {},
     "output_type": "execute_result"
    }
   ],
   "source": [
    "df = pd.DataFrame(data=rows, columns=columnHeaders)\n",
    "df.head(4)"
   ]
  },
  {
   "cell_type": "markdown",
   "metadata": {},
   "source": [
    "## Clean the data"
   ]
  },
  {
   "cell_type": "code",
   "execution_count": 32,
   "metadata": {},
   "outputs": [
    {
     "data": {
      "text/plain": [
       "array([1, 2, 4, 3, 5, 6], dtype=int64)"
      ]
     },
     "execution_count": 32,
     "metadata": {},
     "output_type": "execute_result"
    }
   ],
   "source": [
    "df.period.unique()"
   ]
  },
  {
   "cell_type": "code",
   "execution_count": 33,
   "metadata": {},
   "outputs": [],
   "source": [
    "df = df.query('period < 5.0')"
   ]
  },
  {
   "cell_type": "code",
   "execution_count": 34,
   "metadata": {},
   "outputs": [
    {
     "data": {
      "text/plain": [
       "grid_type                1\n",
       "game_id                692\n",
       "game_event_id          692\n",
       "player_id                1\n",
       "player_name              1\n",
       "team_id                  1\n",
       "team_name                1\n",
       "period                   4\n",
       "minutes_remaining       12\n",
       "seconds_remaining       60\n",
       "event_type               2\n",
       "action_type             51\n",
       "shot_type                2\n",
       "shot_zone_basic          7\n",
       "shot_zone_area           6\n",
       "shot_zone_range          5\n",
       "shot_distance           71\n",
       "loc_x                  489\n",
       "loc_y                  437\n",
       "shot_attempted_flag      1\n",
       "shot_made_flag           2\n",
       "game_date              692\n",
       "htm                     32\n",
       "vtm                     32\n",
       "dtype: int64"
      ]
     },
     "execution_count": 34,
     "metadata": {},
     "output_type": "execute_result"
    }
   ],
   "source": [
    "df.nunique(dropna=False)"
   ]
  },
  {
   "cell_type": "code",
   "execution_count": 35,
   "metadata": {},
   "outputs": [],
   "source": [
    "shots = df.drop(columns=['grid_type','game_event_id','team_id',\n",
    "    'team_name','player_id','shot_zone_range','shot_zone_basic',\n",
    "    'shot_zone_area','event_type','action_type', 'minutes_remaining',\n",
    "    'seconds_remaining', 'shot_distance','player_name','period','htm',\n",
    "    'vtm','shot_attempted_flag'])"
   ]
  },
  {
   "cell_type": "code",
   "execution_count": 36,
   "metadata": {},
   "outputs": [],
   "source": [
    "df.game_date = pd.to_datetime(df.game_date) # period 1"
   ]
  },
  {
   "cell_type": "code",
   "execution_count": null,
   "metadata": {},
   "outputs": [],
   "source": []
  },
  {
   "cell_type": "markdown",
   "metadata": {},
   "source": [
    "## Prepare the data"
   ]
  },
  {
   "cell_type": "code",
   "execution_count": 37,
   "metadata": {},
   "outputs": [
    {
     "data": {
      "text/html": [
       "<div>\n",
       "<style scoped>\n",
       "    .dataframe tbody tr th:only-of-type {\n",
       "        vertical-align: middle;\n",
       "    }\n",
       "\n",
       "    .dataframe tbody tr th {\n",
       "        vertical-align: top;\n",
       "    }\n",
       "\n",
       "    .dataframe thead th {\n",
       "        text-align: right;\n",
       "    }\n",
       "</style>\n",
       "<table border=\"1\" class=\"dataframe\">\n",
       "  <thead>\n",
       "    <tr style=\"text-align: right;\">\n",
       "      <th></th>\n",
       "      <th>game_id</th>\n",
       "      <th>shot_type</th>\n",
       "      <th>loc_x</th>\n",
       "      <th>loc_y</th>\n",
       "      <th>shot_made_flag</th>\n",
       "      <th>game_date</th>\n",
       "    </tr>\n",
       "  </thead>\n",
       "  <tbody>\n",
       "    <tr>\n",
       "      <th>0</th>\n",
       "      <td>0020900015</td>\n",
       "      <td>3PT Field Goal</td>\n",
       "      <td>99</td>\n",
       "      <td>249</td>\n",
       "      <td>0</td>\n",
       "      <td>20091028</td>\n",
       "    </tr>\n",
       "    <tr>\n",
       "      <th>1</th>\n",
       "      <td>0020900015</td>\n",
       "      <td>2PT Field Goal</td>\n",
       "      <td>-122</td>\n",
       "      <td>145</td>\n",
       "      <td>1</td>\n",
       "      <td>20091028</td>\n",
       "    </tr>\n",
       "    <tr>\n",
       "      <th>2</th>\n",
       "      <td>0020900015</td>\n",
       "      <td>2PT Field Goal</td>\n",
       "      <td>-60</td>\n",
       "      <td>129</td>\n",
       "      <td>0</td>\n",
       "      <td>20091028</td>\n",
       "    </tr>\n",
       "  </tbody>\n",
       "</table>\n",
       "</div>"
      ],
      "text/plain": [
       "      game_id       shot_type  loc_x  loc_y  shot_made_flag game_date\n",
       "0  0020900015  3PT Field Goal     99    249               0  20091028\n",
       "1  0020900015  2PT Field Goal   -122    145               1  20091028\n",
       "2  0020900015  2PT Field Goal    -60    129               0  20091028"
      ]
     },
     "execution_count": 37,
     "metadata": {},
     "output_type": "execute_result"
    }
   ],
   "source": [
    "shots.head(3)"
   ]
  },
  {
   "cell_type": "code",
   "execution_count": 38,
   "metadata": {},
   "outputs": [],
   "source": [
    "df.set_index('game_id', inplace=True)"
   ]
  },
  {
   "cell_type": "code",
   "execution_count": 48,
   "metadata": {},
   "outputs": [
    {
     "data": {
      "text/html": [
       "<div>\n",
       "<style scoped>\n",
       "    .dataframe tbody tr th:only-of-type {\n",
       "        vertical-align: middle;\n",
       "    }\n",
       "\n",
       "    .dataframe tbody tr th {\n",
       "        vertical-align: top;\n",
       "    }\n",
       "\n",
       "    .dataframe thead th {\n",
       "        text-align: right;\n",
       "    }\n",
       "</style>\n",
       "<table border=\"1\" class=\"dataframe\">\n",
       "  <thead>\n",
       "    <tr style=\"text-align: right;\">\n",
       "      <th></th>\n",
       "      <th>grid_type</th>\n",
       "      <th>game_event_id</th>\n",
       "      <th>player_id</th>\n",
       "      <th>player_name</th>\n",
       "      <th>team_id</th>\n",
       "      <th>team_name</th>\n",
       "      <th>period</th>\n",
       "      <th>minutes_remaining</th>\n",
       "      <th>seconds_remaining</th>\n",
       "      <th>event_type</th>\n",
       "      <th>...</th>\n",
       "      <th>shot_made_flag</th>\n",
       "      <th>game_date</th>\n",
       "      <th>htm</th>\n",
       "      <th>vtm</th>\n",
       "      <th>season</th>\n",
       "      <th>shot_result</th>\n",
       "      <th>points_made</th>\n",
       "      <th>points_made_game</th>\n",
       "      <th>shots_attempted</th>\n",
       "      <th>shots_made</th>\n",
       "    </tr>\n",
       "    <tr>\n",
       "      <th>game_id</th>\n",
       "      <th></th>\n",
       "      <th></th>\n",
       "      <th></th>\n",
       "      <th></th>\n",
       "      <th></th>\n",
       "      <th></th>\n",
       "      <th></th>\n",
       "      <th></th>\n",
       "      <th></th>\n",
       "      <th></th>\n",
       "      <th></th>\n",
       "      <th></th>\n",
       "      <th></th>\n",
       "      <th></th>\n",
       "      <th></th>\n",
       "      <th></th>\n",
       "      <th></th>\n",
       "      <th></th>\n",
       "      <th></th>\n",
       "      <th></th>\n",
       "      <th></th>\n",
       "    </tr>\n",
       "  </thead>\n",
       "  <tbody>\n",
       "    <tr>\n",
       "      <th>0020900015</th>\n",
       "      <td>Shot Chart Detail</td>\n",
       "      <td>4</td>\n",
       "      <td>201939</td>\n",
       "      <td>Stephen Curry</td>\n",
       "      <td>1610612744</td>\n",
       "      <td>Golden State Warriors</td>\n",
       "      <td>1</td>\n",
       "      <td>11</td>\n",
       "      <td>25</td>\n",
       "      <td>Missed Shot</td>\n",
       "      <td>...</td>\n",
       "      <td>0</td>\n",
       "      <td>2009-10-28</td>\n",
       "      <td>GSW</td>\n",
       "      <td>HOU</td>\n",
       "      <td>2009-2010</td>\n",
       "      <td>Missed</td>\n",
       "      <td>0</td>\n",
       "      <td>14</td>\n",
       "      <td>12</td>\n",
       "      <td>7</td>\n",
       "    </tr>\n",
       "    <tr>\n",
       "      <th>0020900015</th>\n",
       "      <td>Shot Chart Detail</td>\n",
       "      <td>17</td>\n",
       "      <td>201939</td>\n",
       "      <td>Stephen Curry</td>\n",
       "      <td>1610612744</td>\n",
       "      <td>Golden State Warriors</td>\n",
       "      <td>1</td>\n",
       "      <td>9</td>\n",
       "      <td>31</td>\n",
       "      <td>Made Shot</td>\n",
       "      <td>...</td>\n",
       "      <td>1</td>\n",
       "      <td>2009-10-28</td>\n",
       "      <td>GSW</td>\n",
       "      <td>HOU</td>\n",
       "      <td>2009-2010</td>\n",
       "      <td>Made</td>\n",
       "      <td>2</td>\n",
       "      <td>14</td>\n",
       "      <td>12</td>\n",
       "      <td>7</td>\n",
       "    </tr>\n",
       "    <tr>\n",
       "      <th>0020900015</th>\n",
       "      <td>Shot Chart Detail</td>\n",
       "      <td>53</td>\n",
       "      <td>201939</td>\n",
       "      <td>Stephen Curry</td>\n",
       "      <td>1610612744</td>\n",
       "      <td>Golden State Warriors</td>\n",
       "      <td>1</td>\n",
       "      <td>6</td>\n",
       "      <td>2</td>\n",
       "      <td>Missed Shot</td>\n",
       "      <td>...</td>\n",
       "      <td>0</td>\n",
       "      <td>2009-10-28</td>\n",
       "      <td>GSW</td>\n",
       "      <td>HOU</td>\n",
       "      <td>2009-2010</td>\n",
       "      <td>Missed</td>\n",
       "      <td>0</td>\n",
       "      <td>14</td>\n",
       "      <td>12</td>\n",
       "      <td>7</td>\n",
       "    </tr>\n",
       "    <tr>\n",
       "      <th>0020900015</th>\n",
       "      <td>Shot Chart Detail</td>\n",
       "      <td>141</td>\n",
       "      <td>201939</td>\n",
       "      <td>Stephen Curry</td>\n",
       "      <td>1610612744</td>\n",
       "      <td>Golden State Warriors</td>\n",
       "      <td>2</td>\n",
       "      <td>9</td>\n",
       "      <td>49</td>\n",
       "      <td>Missed Shot</td>\n",
       "      <td>...</td>\n",
       "      <td>0</td>\n",
       "      <td>2009-10-28</td>\n",
       "      <td>GSW</td>\n",
       "      <td>HOU</td>\n",
       "      <td>2009-2010</td>\n",
       "      <td>Missed</td>\n",
       "      <td>0</td>\n",
       "      <td>14</td>\n",
       "      <td>12</td>\n",
       "      <td>7</td>\n",
       "    </tr>\n",
       "    <tr>\n",
       "      <th>0020900015</th>\n",
       "      <td>Shot Chart Detail</td>\n",
       "      <td>249</td>\n",
       "      <td>201939</td>\n",
       "      <td>Stephen Curry</td>\n",
       "      <td>1610612744</td>\n",
       "      <td>Golden State Warriors</td>\n",
       "      <td>2</td>\n",
       "      <td>2</td>\n",
       "      <td>19</td>\n",
       "      <td>Missed Shot</td>\n",
       "      <td>...</td>\n",
       "      <td>0</td>\n",
       "      <td>2009-10-28</td>\n",
       "      <td>GSW</td>\n",
       "      <td>HOU</td>\n",
       "      <td>2009-2010</td>\n",
       "      <td>Missed</td>\n",
       "      <td>0</td>\n",
       "      <td>14</td>\n",
       "      <td>12</td>\n",
       "      <td>7</td>\n",
       "    </tr>\n",
       "  </tbody>\n",
       "</table>\n",
       "<p>5 rows × 29 columns</p>\n",
       "</div>"
      ],
      "text/plain": [
       "                    grid_type  game_event_id  player_id    player_name  \\\n",
       "game_id                                                                  \n",
       "0020900015  Shot Chart Detail              4     201939  Stephen Curry   \n",
       "0020900015  Shot Chart Detail             17     201939  Stephen Curry   \n",
       "0020900015  Shot Chart Detail             53     201939  Stephen Curry   \n",
       "0020900015  Shot Chart Detail            141     201939  Stephen Curry   \n",
       "0020900015  Shot Chart Detail            249     201939  Stephen Curry   \n",
       "\n",
       "               team_id              team_name  period  minutes_remaining  \\\n",
       "game_id                                                                    \n",
       "0020900015  1610612744  Golden State Warriors       1                 11   \n",
       "0020900015  1610612744  Golden State Warriors       1                  9   \n",
       "0020900015  1610612744  Golden State Warriors       1                  6   \n",
       "0020900015  1610612744  Golden State Warriors       2                  9   \n",
       "0020900015  1610612744  Golden State Warriors       2                  2   \n",
       "\n",
       "            seconds_remaining   event_type  ... shot_made_flag  game_date  \\\n",
       "game_id                                     ...                             \n",
       "0020900015                 25  Missed Shot  ...              0 2009-10-28   \n",
       "0020900015                 31    Made Shot  ...              1 2009-10-28   \n",
       "0020900015                  2  Missed Shot  ...              0 2009-10-28   \n",
       "0020900015                 49  Missed Shot  ...              0 2009-10-28   \n",
       "0020900015                 19  Missed Shot  ...              0 2009-10-28   \n",
       "\n",
       "            htm  vtm     season  shot_result  points_made  points_made_game  \\\n",
       "game_id                                                                       \n",
       "0020900015  GSW  HOU  2009-2010       Missed            0                14   \n",
       "0020900015  GSW  HOU  2009-2010         Made            2                14   \n",
       "0020900015  GSW  HOU  2009-2010       Missed            0                14   \n",
       "0020900015  GSW  HOU  2009-2010       Missed            0                14   \n",
       "0020900015  GSW  HOU  2009-2010       Missed            0                14   \n",
       "\n",
       "            shots_attempted  shots_made  \n",
       "game_id                                  \n",
       "0020900015               12           7  \n",
       "0020900015               12           7  \n",
       "0020900015               12           7  \n",
       "0020900015               12           7  \n",
       "0020900015               12           7  \n",
       "\n",
       "[5 rows x 29 columns]"
      ]
     },
     "execution_count": 48,
     "metadata": {},
     "output_type": "execute_result"
    }
   ],
   "source": [
    "def get_season(row):\n",
    "    if row.game_date.month > 6:\n",
    "        season = f'{row.game_date.year}-{row.game_date.year + 1}' \n",
    "    else:\n",
    "        season = f'{row.game_date.year - 1}-{row.game_date.year}'\n",
    "    return season\n",
    "\n",
    "df['season'] = df.apply(get_season, axis=1)\n",
    "df.head()"
   ]
  },
  {
   "cell_type": "code",
   "execution_count": 40,
   "metadata": {},
   "outputs": [],
   "source": [
    "df['shot_result'] = df.shot_made_flag.replace({0:'Missed', 1:'Made'})"
   ]
  },
  {
   "cell_type": "code",
   "execution_count": 41,
   "metadata": {},
   "outputs": [],
   "source": [
    "df['points_made'] = df.apply(lambda x: 0 if x.shot_result == 'Missed' else \n",
    "                          (3 if x.shot_type == '3PT Field Goal' else 2), axis=1)"
   ]
  },
  {
   "cell_type": "code",
   "execution_count": 42,
   "metadata": {},
   "outputs": [],
   "source": [
    "df['points_made_game'] = df.groupby('game_id').points_made.transform('sum')"
   ]
  },
  {
   "cell_type": "code",
   "execution_count": 43,
   "metadata": {},
   "outputs": [],
   "source": [
    "df['shots_attempted'] = df.groupby('game_id').shot_made_flag.transform('count')"
   ]
  },
  {
   "cell_type": "code",
   "execution_count": 44,
   "metadata": {},
   "outputs": [],
   "source": [
    "df['shots_made'] = df.groupby('game_id').shot_made_flag.transform('sum')"
   ]
  },
  {
   "cell_type": "code",
   "execution_count": 45,
   "metadata": {},
   "outputs": [
    {
     "data": {
      "text/html": [
       "<div>\n",
       "<style scoped>\n",
       "    .dataframe tbody tr th:only-of-type {\n",
       "        vertical-align: middle;\n",
       "    }\n",
       "\n",
       "    .dataframe tbody tr th {\n",
       "        vertical-align: top;\n",
       "    }\n",
       "\n",
       "    .dataframe thead th {\n",
       "        text-align: right;\n",
       "    }\n",
       "</style>\n",
       "<table border=\"1\" class=\"dataframe\">\n",
       "  <thead>\n",
       "    <tr style=\"text-align: right;\">\n",
       "      <th></th>\n",
       "      <th>shot_type</th>\n",
       "      <th>points_made</th>\n",
       "      <th>points_made_game</th>\n",
       "      <th>shots_attempted</th>\n",
       "      <th>shots_made</th>\n",
       "    </tr>\n",
       "    <tr>\n",
       "      <th>game_id</th>\n",
       "      <th></th>\n",
       "      <th></th>\n",
       "      <th></th>\n",
       "      <th></th>\n",
       "      <th></th>\n",
       "    </tr>\n",
       "  </thead>\n",
       "  <tbody>\n",
       "    <tr>\n",
       "      <th>0020900015</th>\n",
       "      <td>3PT Field Goal</td>\n",
       "      <td>0</td>\n",
       "      <td>14</td>\n",
       "      <td>12</td>\n",
       "      <td>7</td>\n",
       "    </tr>\n",
       "    <tr>\n",
       "      <th>0020900015</th>\n",
       "      <td>2PT Field Goal</td>\n",
       "      <td>2</td>\n",
       "      <td>14</td>\n",
       "      <td>12</td>\n",
       "      <td>7</td>\n",
       "    </tr>\n",
       "    <tr>\n",
       "      <th>0020900015</th>\n",
       "      <td>2PT Field Goal</td>\n",
       "      <td>0</td>\n",
       "      <td>14</td>\n",
       "      <td>12</td>\n",
       "      <td>7</td>\n",
       "    </tr>\n",
       "    <tr>\n",
       "      <th>0020900015</th>\n",
       "      <td>2PT Field Goal</td>\n",
       "      <td>0</td>\n",
       "      <td>14</td>\n",
       "      <td>12</td>\n",
       "      <td>7</td>\n",
       "    </tr>\n",
       "    <tr>\n",
       "      <th>0020900015</th>\n",
       "      <td>2PT Field Goal</td>\n",
       "      <td>0</td>\n",
       "      <td>14</td>\n",
       "      <td>12</td>\n",
       "      <td>7</td>\n",
       "    </tr>\n",
       "    <tr>\n",
       "      <th>...</th>\n",
       "      <td>...</td>\n",
       "      <td>...</td>\n",
       "      <td>...</td>\n",
       "      <td>...</td>\n",
       "      <td>...</td>\n",
       "    </tr>\n",
       "    <tr>\n",
       "      <th>0021801205</th>\n",
       "      <td>3PT Field Goal</td>\n",
       "      <td>3</td>\n",
       "      <td>25</td>\n",
       "      <td>20</td>\n",
       "      <td>11</td>\n",
       "    </tr>\n",
       "    <tr>\n",
       "      <th>0021801215</th>\n",
       "      <td>2PT Field Goal</td>\n",
       "      <td>0</td>\n",
       "      <td>5</td>\n",
       "      <td>4</td>\n",
       "      <td>2</td>\n",
       "    </tr>\n",
       "    <tr>\n",
       "      <th>0021801215</th>\n",
       "      <td>3PT Field Goal</td>\n",
       "      <td>3</td>\n",
       "      <td>5</td>\n",
       "      <td>4</td>\n",
       "      <td>2</td>\n",
       "    </tr>\n",
       "    <tr>\n",
       "      <th>0021801215</th>\n",
       "      <td>3PT Field Goal</td>\n",
       "      <td>0</td>\n",
       "      <td>5</td>\n",
       "      <td>4</td>\n",
       "      <td>2</td>\n",
       "    </tr>\n",
       "    <tr>\n",
       "      <th>0021801215</th>\n",
       "      <td>2PT Field Goal</td>\n",
       "      <td>2</td>\n",
       "      <td>5</td>\n",
       "      <td>4</td>\n",
       "      <td>2</td>\n",
       "    </tr>\n",
       "  </tbody>\n",
       "</table>\n",
       "<p>11753 rows × 5 columns</p>\n",
       "</div>"
      ],
      "text/plain": [
       "                 shot_type  points_made  points_made_game  shots_attempted  \\\n",
       "game_id                                                                      \n",
       "0020900015  3PT Field Goal            0                14               12   \n",
       "0020900015  2PT Field Goal            2                14               12   \n",
       "0020900015  2PT Field Goal            0                14               12   \n",
       "0020900015  2PT Field Goal            0                14               12   \n",
       "0020900015  2PT Field Goal            0                14               12   \n",
       "...                    ...          ...               ...              ...   \n",
       "0021801205  3PT Field Goal            3                25               20   \n",
       "0021801215  2PT Field Goal            0                 5                4   \n",
       "0021801215  3PT Field Goal            3                 5                4   \n",
       "0021801215  3PT Field Goal            0                 5                4   \n",
       "0021801215  2PT Field Goal            2                 5                4   \n",
       "\n",
       "            shots_made  \n",
       "game_id                 \n",
       "0020900015           7  \n",
       "0020900015           7  \n",
       "0020900015           7  \n",
       "0020900015           7  \n",
       "0020900015           7  \n",
       "...                ...  \n",
       "0021801205          11  \n",
       "0021801215           2  \n",
       "0021801215           2  \n",
       "0021801215           2  \n",
       "0021801215           2  \n",
       "\n",
       "[11753 rows x 5 columns]"
      ]
     },
     "execution_count": 45,
     "metadata": {},
     "output_type": "execute_result"
    }
   ],
   "source": [
    "df[['shot_type','points_made','points_made_game','shots_attempted','shots_made']]"
   ]
  },
  {
   "cell_type": "code",
   "execution_count": null,
   "metadata": {},
   "outputs": [],
   "source": []
  },
  {
   "cell_type": "markdown",
   "metadata": {},
   "source": [
    "## Plot the summary data"
   ]
  },
  {
   "cell_type": "code",
   "execution_count": 50,
   "metadata": {
    "tags": []
   },
   "outputs": [],
   "source": [
    "shotsSeason = df[['season', 'game_date', 'points_made_game', 'shots_made', 'shots_attempted']].drop_duplicates()"
   ]
  },
  {
   "cell_type": "code",
   "execution_count": 53,
   "metadata": {
    "tags": []
   },
   "outputs": [
    {
     "name": "stderr",
     "output_type": "stream",
     "text": [
      "C:\\ProgramData\\anaconda3\\Lib\\site-packages\\seaborn\\axisgrid.py:118: UserWarning: The figure layout has changed to tight\n",
      "  self._figure.tight_layout(*args, **kwargs)\n"
     ]
    },
    {
     "data": {
      "text/plain": [
       "<seaborn.axisgrid.FacetGrid at 0x21a3434fd50>"
      ]
     },
     "execution_count": 53,
     "metadata": {},
     "output_type": "execute_result"
    },
    {
     "data": {
      "image/png": "[encoded data removed]",
      "text/plain": [
       "<Figure size 1250x500 with 1 Axes>"
      ]
     },
     "metadata": {},
     "output_type": "display_data"
    }
   ],
   "source": [
    "sns.catplot(data=shotsSeason, kind='box', x='season', y='points_made_game', \n",
    "            aspect=2.5, palette='deep')"
   ]
  },
  {
   "cell_type": "code",
   "execution_count": 52,
   "metadata": {
    "tags": []
   },
   "outputs": [
    {
     "data": {
      "text/html": [
       "<div>\n",
       "<style scoped>\n",
       "    .dataframe tbody tr th:only-of-type {\n",
       "        vertical-align: middle;\n",
       "    }\n",
       "\n",
       "    .dataframe tbody tr th {\n",
       "        vertical-align: top;\n",
       "    }\n",
       "\n",
       "    .dataframe thead th {\n",
       "        text-align: right;\n",
       "    }\n",
       "</style>\n",
       "<table border=\"1\" class=\"dataframe\">\n",
       "  <thead>\n",
       "    <tr style=\"text-align: right;\">\n",
       "      <th></th>\n",
       "      <th>season</th>\n",
       "      <th>game_date</th>\n",
       "      <th>points_made_game</th>\n",
       "      <th>shots_made</th>\n",
       "      <th>shots_attempted</th>\n",
       "    </tr>\n",
       "    <tr>\n",
       "      <th>game_id</th>\n",
       "      <th></th>\n",
       "      <th></th>\n",
       "      <th></th>\n",
       "      <th></th>\n",
       "      <th></th>\n",
       "    </tr>\n",
       "  </thead>\n",
       "  <tbody>\n",
       "    <tr>\n",
       "      <th>0020900015</th>\n",
       "      <td>2009-2010</td>\n",
       "      <td>2009-10-28</td>\n",
       "      <td>14</td>\n",
       "      <td>7</td>\n",
       "      <td>12</td>\n",
       "    </tr>\n",
       "    <tr>\n",
       "      <th>0020900030</th>\n",
       "      <td>2009-2010</td>\n",
       "      <td>2009-10-30</td>\n",
       "      <td>12</td>\n",
       "      <td>5</td>\n",
       "      <td>9</td>\n",
       "    </tr>\n",
       "    <tr>\n",
       "      <th>0020900069</th>\n",
       "      <td>2009-2010</td>\n",
       "      <td>2009-11-04</td>\n",
       "      <td>7</td>\n",
       "      <td>3</td>\n",
       "      <td>6</td>\n",
       "    </tr>\n",
       "    <tr>\n",
       "      <th>0020900082</th>\n",
       "      <td>2009-2010</td>\n",
       "      <td>2009-11-06</td>\n",
       "      <td>2</td>\n",
       "      <td>1</td>\n",
       "      <td>5</td>\n",
       "    </tr>\n",
       "    <tr>\n",
       "      <th>0020900096</th>\n",
       "      <td>2009-2010</td>\n",
       "      <td>2009-11-08</td>\n",
       "      <td>9</td>\n",
       "      <td>4</td>\n",
       "      <td>8</td>\n",
       "    </tr>\n",
       "  </tbody>\n",
       "</table>\n",
       "</div>"
      ],
      "text/plain": [
       "               season  game_date  points_made_game  shots_made  \\\n",
       "game_id                                                          \n",
       "0020900015  2009-2010 2009-10-28                14           7   \n",
       "0020900030  2009-2010 2009-10-30                12           5   \n",
       "0020900069  2009-2010 2009-11-04                 7           3   \n",
       "0020900082  2009-2010 2009-11-06                 2           1   \n",
       "0020900096  2009-2010 2009-11-08                 9           4   \n",
       "\n",
       "            shots_attempted  \n",
       "game_id                      \n",
       "0020900015               12  \n",
       "0020900030                9  \n",
       "0020900069                6  \n",
       "0020900082                5  \n",
       "0020900096                8  "
      ]
     },
     "execution_count": 52,
     "metadata": {},
     "output_type": "execute_result"
    }
   ],
   "source": [
    "shotsSeason.head()"
   ]
  },
  {
   "cell_type": "code",
   "execution_count": null,
   "metadata": {},
   "outputs": [],
   "source": []
  },
  {
   "cell_type": "code",
   "execution_count": null,
   "metadata": {},
   "outputs": [],
   "source": []
  },
  {
   "cell_type": "markdown",
   "metadata": {},
   "source": [
    "## Plot the shots for two games"
   ]
  },
  {
   "cell_type": "code",
   "execution_count": 56,
   "metadata": {
    "tags": []
   },
   "outputs": [],
   "source": [
    "gameIDs=[\"002180093\", \"002180642\"]"
   ]
  },
  {
   "cell_type": "code",
   "execution_count": 57,
   "metadata": {},
   "outputs": [],
   "source": [
    "# SOURCE: http://savvastjortjoglou.com/nba-shot-sharts.html\n",
    "from matplotlib.patches import Circle, Rectangle, Arc\n",
    "def draw_court(ax=None, color='black', lw=2, outer_lines=False):\n",
    "    # If an axes object isn't provided to plot onto, just get current one\n",
    "    if ax is None:\n",
    "        ax = plt.gca()\n",
    "\n",
    "    # Create the various parts of an NBA basketball court\n",
    "\n",
    "    # Create the basketball hoop\n",
    "    # Diameter of a hoop is 18\" so it has a radius of 9\", which is a value\n",
    "    # 7.5 in our coordinate system\n",
    "    hoop = Circle((0, 0), radius=7.5, linewidth=lw, color=color, fill=False)\n",
    "\n",
    "    # Create backboard\n",
    "    backboard = Rectangle((-30, -7.5), 60, -1, linewidth=lw, color=color)\n",
    "\n",
    "    # The paint\n",
    "    # Create the outer box 0f the paint, width=16ft, height=19ft\n",
    "    outer_box = Rectangle((-80, -47.5), 160, 190, linewidth=lw, color=color,\n",
    "                          fill=False)\n",
    "    # Create the inner box of the paint, widt=12ft, height=19ft\n",
    "    inner_box = Rectangle((-60, -47.5), 120, 190, linewidth=lw, color=color,\n",
    "                          fill=False)\n",
    "\n",
    "    # Create free throw top arc\n",
    "    top_free_throw = Arc((0, 142.5), 120, 120, theta1=0, theta2=180,\n",
    "                         linewidth=lw, color=color, fill=False)\n",
    "    # Create free throw bottom arc\n",
    "    bottom_free_throw = Arc((0, 142.5), 120, 120, theta1=180, theta2=0,\n",
    "                            linewidth=lw, color=color, linestyle='dashed')\n",
    "    # Restricted Zone, it is an arc with 4ft radius from center of the hoop\n",
    "    restricted = Arc((0, 0), 80, 80, theta1=0, theta2=180, linewidth=lw,\n",
    "                     color=color)\n",
    "\n",
    "    # Three point line\n",
    "    # Create the side 3pt lines, they are 14ft long before they begin to arc\n",
    "    corner_three_a = Rectangle((-220, -47.5), 0, 140, linewidth=lw,\n",
    "                               color=color)\n",
    "    corner_three_b = Rectangle((220, -47.5), 0, 140, linewidth=lw, color=color)\n",
    "    # 3pt arc - center of arc will be the hoop, arc is 23'9\" away from hoop\n",
    "    # I just played around with the theta values until they lined up with the \n",
    "    # threes\n",
    "    three_arc = Arc((0, 0), 475, 475, theta1=22, theta2=158, linewidth=lw,\n",
    "                    color=color)\n",
    "\n",
    "    # Center Court\n",
    "    center_outer_arc = Arc((0, 422.5), 120, 120, theta1=180, theta2=0,\n",
    "                           linewidth=lw, color=color)\n",
    "    center_inner_arc = Arc((0, 422.5), 40, 40, theta1=180, theta2=0,\n",
    "                           linewidth=lw, color=color)\n",
    "\n",
    "    # List of the court elements to be plotted onto the axes\n",
    "    court_elements = [hoop, backboard, outer_box, inner_box, top_free_throw,\n",
    "                      bottom_free_throw, restricted, corner_three_a,\n",
    "                      corner_three_b, three_arc, center_outer_arc,\n",
    "                      center_inner_arc]\n",
    "\n",
    "    if outer_lines:\n",
    "        # Draw the half court line, baseline and side out bound lines\n",
    "        outer_lines = Rectangle((-250, -47.5), 500, 470, linewidth=lw,\n",
    "                                color=color, fill=False)\n",
    "        court_elements.append(outer_lines)\n",
    "\n",
    "    # Add the court elements onto the axes\n",
    "    for element in court_elements:\n",
    "        ax.add_patch(element)\n",
    "\n",
    "    return ax"
   ]
  },
  {
   "cell_type": "code",
   "execution_count": 62,
   "metadata": {
    "tags": []
   },
   "outputs": [
    {
     "name": "stderr",
     "output_type": "stream",
     "text": [
      "C:\\ProgramData\\anaconda3\\Lib\\site-packages\\seaborn\\axisgrid.py:118: UserWarning: The figure layout has changed to tight\n",
      "  self._figure.tight_layout(*args, **kwargs)\n"
     ]
    },
    {
     "data": {
      "image/png": "[encoded data removed]",
      "text/plain": [
       "<Figure size 500x500 with 1 Axes>"
      ]
     },
     "metadata": {},
     "output_type": "display_data"
    }
   ],
   "source": [
    "g = sns.relplot(data=df.query('game_id in @gameIDs'), kind='scatter', \n",
    "    x='loc_x', y='loc_y', hue='shot_result', col='game_id', s=50)\n",
    "\n",
    "for i, ax in enumerate(g.axes.flat):\n",
    "    ax.set_title('shots for game ' + gameIDs[i])\n",
    "    ax = draw_court(ax, outer_lines=True)\n",
    "    ax.set_xlim(-300,300)\n",
    "    ax.set_ylim(-100, 500)"
   ]
  },
  {
   "cell_type": "markdown",
   "metadata": {},
   "source": [
    "## Plot shot data for two seasons"
   ]
  },
  {
   "cell_type": "code",
   "execution_count": null,
   "metadata": {},
   "outputs": [],
   "source": []
  },
  {
   "cell_type": "markdown",
   "metadata": {},
   "source": [
    "## Plot shot density for one season"
   ]
  },
  {
   "cell_type": "code",
   "execution_count": null,
   "metadata": {},
   "outputs": [],
   "source": []
  },
  {
   "cell_type": "markdown",
   "metadata": {},
   "source": [
    "## Plot shot density for two seasons"
   ]
  },
  {
   "cell_type": "code",
   "execution_count": null,
   "metadata": {},
   "outputs": [],
   "source": []
  },
  {
   "cell_type": "code",
   "execution_count": null,
   "metadata": {},
   "outputs": [],
   "source": []
  }
 ],
 "metadata": {
  "kernelspec": {
   "display_name": "Python 3 (ipykernel)",
   "language": "python",
   "name": "python3"
  },
  "language_info": {
   "codemirror_mode": {
    "name": "ipython",
    "version": 3
   },
   "file_extension": ".py",
   "mimetype": "text/x-python",
   "name": "python",
   "nbconvert_exporter": "python",
   "pygments_lexer": "ipython3",
   "version": "3.11.5"
  }
 },
 "nbformat": 4,
 "nbformat_minor": 4
}
